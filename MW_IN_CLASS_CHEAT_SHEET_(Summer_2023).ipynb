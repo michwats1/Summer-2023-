{
  "nbformat": 4,
  "nbformat_minor": 0,
  "metadata": {
    "colab": {
      "provenance": [],
      "collapsed_sections": [
        "rpnQEg_YeMeQ",
        "ds6ET5i4eQO7",
        "4-bfhqcNeSLL",
        "ytBi6NpGl4u7"
      ],
      "toc_visible": true,
      "include_colab_link": true
    },
    "kernelspec": {
      "name": "python3",
      "display_name": "Python 3"
    },
    "language_info": {
      "name": "python"
    }
  },
  "cells": [
    {
      "cell_type": "markdown",
      "metadata": {
        "id": "view-in-github",
        "colab_type": "text"
      },
      "source": [
        "<a href=\"https://colab.research.google.com/github/michwats1/Summer-2023-/blob/main/MW_IN_CLASS_CHEAT_SHEET_(Summer_2023).ipynb\" target=\"_parent\"><img src=\"https://colab.research.google.com/assets/colab-badge.svg\" alt=\"Open In Colab\"/></a>"
      ]
    },
    {
      "cell_type": "markdown",
      "source": [
        "# Built In Functions\n",
        "\n",
        "https://docs.python.org/3/library/functions.html"
      ],
      "metadata": {
        "id": "rpnQEg_YeMeQ"
      }
    },
    {
      "cell_type": "markdown",
      "source": [
        "## Print Function"
      ],
      "metadata": {
        "id": "1vgU4Tf6eOh3"
      }
    },
    {
      "cell_type": "markdown",
      "source": [
        "Printing a single item:"
      ],
      "metadata": {
        "id": "4rTK6ZImFJ3B"
      }
    },
    {
      "cell_type": "code",
      "source": [
        "x = 5\n",
        "\n",
        "print(x)"
      ],
      "metadata": {
        "id": "VAcLU07seUHl",
        "colab": {
          "base_uri": "https://localhost:8080/"
        },
        "outputId": "61af6f48-7fee-436c-93d8-003fcd322eb7"
      },
      "execution_count": null,
      "outputs": [
        {
          "output_type": "stream",
          "name": "stdout",
          "text": [
            "5\n"
          ]
        }
      ]
    },
    {
      "cell_type": "markdown",
      "source": [
        "Printing comma separated items:"
      ],
      "metadata": {
        "id": "JwLKM3DfFHsi"
      }
    },
    {
      "cell_type": "code",
      "source": [
        "print(x, \"hello\", 8)"
      ],
      "metadata": {
        "id": "4X6qG1YNeTxZ",
        "colab": {
          "base_uri": "https://localhost:8080/"
        },
        "outputId": "e59813a6-f76a-419a-9f14-6034fa68f30b"
      },
      "execution_count": null,
      "outputs": [
        {
          "output_type": "stream",
          "name": "stdout",
          "text": [
            "5 hello 8\n"
          ]
        }
      ]
    },
    {
      "cell_type": "markdown",
      "source": [
        "Printing vs displaying the last thing in a code cell:"
      ],
      "metadata": {
        "id": "Qkxvf2-NFXJR"
      }
    },
    {
      "cell_type": "code",
      "source": [
        "z = 10\n",
        "#print(z)\n",
        "\n",
        "z"
      ],
      "metadata": {
        "id": "a43sZfNoFZ57",
        "colab": {
          "base_uri": "https://localhost:8080/"
        },
        "outputId": "bd8181d6-f173-41fa-a90a-234a07e9a29d"
      },
      "execution_count": null,
      "outputs": [
        {
          "output_type": "execute_result",
          "data": {
            "text/plain": [
              "10"
            ]
          },
          "metadata": {},
          "execution_count": 10
        }
      ]
    },
    {
      "cell_type": "code",
      "source": [],
      "metadata": {
        "id": "IOeYv7ZcFaZy"
      },
      "execution_count": null,
      "outputs": []
    },
    {
      "cell_type": "markdown",
      "source": [
        "## Input Function"
      ],
      "metadata": {
        "id": "cvThiz1bjZaU"
      }
    },
    {
      "cell_type": "markdown",
      "source": [
        "Capturing user inputs:"
      ],
      "metadata": {
        "id": "t6lsWIhRFbfR"
      }
    },
    {
      "cell_type": "code",
      "source": [
        "my_name = input(\"Please input your name: \")\n",
        "print(\"NAME:\", my_name)"
      ],
      "metadata": {
        "id": "F3QYFp9fjbDD",
        "colab": {
          "base_uri": "https://localhost:8080/"
        },
        "outputId": "75b790f5-813e-4d06-c989-ccdcfc450ea9"
      },
      "execution_count": null,
      "outputs": [
        {
          "output_type": "stream",
          "name": "stdout",
          "text": [
            "Please input your name: MJR\n",
            "NAME: MJR\n"
          ]
        }
      ]
    },
    {
      "cell_type": "code",
      "source": [],
      "metadata": {
        "id": "ces3qthFkFCb"
      },
      "execution_count": null,
      "outputs": []
    },
    {
      "cell_type": "markdown",
      "source": [
        "## Variables"
      ],
      "metadata": {
        "id": "RXwftOtN3Kw3"
      }
    },
    {
      "cell_type": "markdown",
      "source": [
        "We use the single equals sign for variable assignment.\n",
        "\n"
      ],
      "metadata": {
        "id": "aRwxqg5S3mXO"
      }
    },
    {
      "cell_type": "code",
      "source": [
        "#x = 5\n",
        "#print(x)\n",
        "#\n",
        "#x = 20\n",
        "#print(x)\n",
        "#\n",
        "#x = x * 10\n",
        "#print(x)\n",
        "#\n",
        "#\n",
        "#x+=10\n",
        "#\n",
        "#print(x)\n",
        "#\n",
        "#"
      ],
      "metadata": {
        "id": "1qZrHvNU3xao",
        "outputId": "b7500f85-0fcc-4698-bc10-b74701813d26",
        "colab": {
          "base_uri": "https://localhost:8080/"
        }
      },
      "execution_count": null,
      "outputs": [
        {
          "output_type": "stream",
          "name": "stdout",
          "text": [
            "5\n",
            "20\n",
            "200\n",
            "210\n"
          ]
        }
      ]
    },
    {
      "cell_type": "markdown",
      "source": [],
      "metadata": {
        "id": "iRxZJWh-FgUl"
      }
    },
    {
      "cell_type": "markdown",
      "source": [
        "A variable's value can change over time (i.e. be overwritten / reset):\n",
        "\n"
      ],
      "metadata": {
        "id": "s7MWWl1u3L_i"
      }
    },
    {
      "cell_type": "code",
      "source": [],
      "metadata": {
        "id": "IXoBCnxe3R4S"
      },
      "execution_count": null,
      "outputs": []
    },
    {
      "cell_type": "code",
      "source": [],
      "metadata": {
        "id": "4vza3RDX3SN3"
      },
      "execution_count": null,
      "outputs": []
    },
    {
      "cell_type": "markdown",
      "source": [
        "Whatever value is to the right of the equals sign will be assigned to the variable to the left of the equals sign.\n",
        "\n",
        "We can reference the variable's previous value during our process of assigning a new value:"
      ],
      "metadata": {
        "id": "LnxTDTl53UOM"
      }
    },
    {
      "cell_type": "code",
      "source": [],
      "metadata": {
        "id": "bz30841j3Shz"
      },
      "execution_count": null,
      "outputs": []
    },
    {
      "cell_type": "code",
      "source": [],
      "metadata": {
        "id": "vm9glTJm54pa"
      },
      "execution_count": null,
      "outputs": []
    },
    {
      "cell_type": "markdown",
      "source": [
        "# Basic Datatypes"
      ],
      "metadata": {
        "id": "ds6ET5i4eQO7"
      }
    },
    {
      "cell_type": "code",
      "source": [
        "print(type(\"Hello\"))\n",
        "print(type(\"100\"))\n",
        "\n",
        "type('Hello World')\n"
      ],
      "metadata": {
        "id": "xNPqUtULeUqV",
        "outputId": "be9d4f18-ecc3-4c58-bbf9-9c2fff356548",
        "colab": {
          "base_uri": "https://localhost:8080/"
        }
      },
      "execution_count": null,
      "outputs": [
        {
          "output_type": "stream",
          "name": "stdout",
          "text": [
            "<class 'str'>\n",
            "<class 'str'>\n"
          ]
        },
        {
          "output_type": "execute_result",
          "data": {
            "text/plain": [
              "str"
            ]
          },
          "metadata": {},
          "execution_count": 10
        }
      ]
    },
    {
      "cell_type": "code",
      "source": [
        "print(type(100))\n",
        "print(type(0.45))"
      ],
      "metadata": {
        "id": "wWpcgzNUf5bB",
        "outputId": "7be7d1af-7fe9-4349-c53b-2e219d4fae9d",
        "colab": {
          "base_uri": "https://localhost:8080/"
        }
      },
      "execution_count": null,
      "outputs": [
        {
          "output_type": "stream",
          "name": "stdout",
          "text": [
            "<class 'int'>\n",
            "<class 'float'>\n"
          ]
        }
      ]
    },
    {
      "cell_type": "code",
      "source": [
        "print(type(True))\n",
        "print(type(False))"
      ],
      "metadata": {
        "id": "IdDGpVF9f6YP",
        "outputId": "83ddc0a3-c5b2-464a-b49f-3db619a740d4",
        "colab": {
          "base_uri": "https://localhost:8080/"
        }
      },
      "execution_count": null,
      "outputs": [
        {
          "output_type": "stream",
          "name": "stdout",
          "text": [
            "<class 'bool'>\n",
            "<class 'bool'>\n"
          ]
        }
      ]
    },
    {
      "cell_type": "code",
      "source": [
        "print(type(None))"
      ],
      "metadata": {
        "id": "-i_yPrk1gPQc",
        "outputId": "b26110b2-b20e-4fe2-b750-f292f12143ea",
        "colab": {
          "base_uri": "https://localhost:8080/"
        }
      },
      "execution_count": null,
      "outputs": [
        {
          "output_type": "stream",
          "name": "stdout",
          "text": [
            "<class 'NoneType'>\n"
          ]
        }
      ]
    },
    {
      "cell_type": "code",
      "source": [
        "print(type({\"a\":1, \"b\":2, \"c\":3}))"
      ],
      "metadata": {
        "id": "6Z8VhXbUgq0J",
        "outputId": "1192213c-d699-4da1-c1ea-e653c1e5c226",
        "colab": {
          "base_uri": "https://localhost:8080/"
        }
      },
      "execution_count": null,
      "outputs": [
        {
          "output_type": "stream",
          "name": "stdout",
          "text": [
            "<class 'dict'>\n"
          ]
        }
      ]
    },
    {
      "cell_type": "code",
      "source": [
        "print(type([1,2,3]))"
      ],
      "metadata": {
        "id": "C0auybWTg5Hw"
      },
      "execution_count": null,
      "outputs": []
    },
    {
      "cell_type": "markdown",
      "source": [
        "## Numbers"
      ],
      "metadata": {
        "id": "eZX7YN3mhNE-"
      }
    },
    {
      "cell_type": "code",
      "source": [
        "x = 6\n",
        "print(x)"
      ],
      "metadata": {
        "id": "EppTCFpThPup",
        "colab": {
          "base_uri": "https://localhost:8080/"
        },
        "outputId": "86113bac-ae43-48ae-8460-88c4cff80f7a"
      },
      "execution_count": null,
      "outputs": [
        {
          "output_type": "stream",
          "name": "stdout",
          "text": [
            "6\n"
          ]
        }
      ]
    },
    {
      "cell_type": "code",
      "source": [
        "print(200 + 5)"
      ],
      "metadata": {
        "id": "SgDQWTqmhY4e",
        "colab": {
          "base_uri": "https://localhost:8080/"
        },
        "outputId": "9b248f0d-4a92-43f5-eb16-47370e100511"
      },
      "execution_count": null,
      "outputs": [
        {
          "output_type": "stream",
          "name": "stdout",
          "text": [
            "205\n"
          ]
        }
      ]
    },
    {
      "cell_type": "code",
      "source": [
        "speed_mph = 100\n",
        "print(speed_mph)"
      ],
      "metadata": {
        "id": "EibqXWDFhrjM",
        "colab": {
          "base_uri": "https://localhost:8080/"
        },
        "outputId": "ec6936bc-fd80-4228-fcab-e3cdda18d322"
      },
      "execution_count": null,
      "outputs": [
        {
          "output_type": "stream",
          "name": "stdout",
          "text": [
            "100\n"
          ]
        }
      ]
    },
    {
      "cell_type": "code",
      "source": [
        "# variable names need underscores (no spaces)\n",
        "# speed mph = 100\n"
      ],
      "metadata": {
        "id": "GbqMf5F3iHDv",
        "colab": {
          "base_uri": "https://localhost:8080/",
          "height": 133
        },
        "outputId": "30dcbe49-931d-4ed5-f9d3-7c76a78b5346"
      },
      "execution_count": null,
      "outputs": [
        {
          "output_type": "error",
          "ename": "SyntaxError",
          "evalue": "ignored",
          "traceback": [
            "\u001b[0;36m  File \u001b[0;32m\"<ipython-input-7-878f77983298>\"\u001b[0;36m, line \u001b[0;32m1\u001b[0m\n\u001b[0;31m    speed mph = 100\u001b[0m\n\u001b[0m          ^\u001b[0m\n\u001b[0;31mSyntaxError\u001b[0m\u001b[0;31m:\u001b[0m invalid syntax\n"
          ]
        }
      ]
    },
    {
      "cell_type": "code",
      "source": [],
      "metadata": {
        "id": "b5QmsHpuiQNu"
      },
      "execution_count": null,
      "outputs": []
    },
    {
      "cell_type": "code",
      "source": [],
      "metadata": {
        "id": "U0kyZ5k3iS55"
      },
      "execution_count": null,
      "outputs": []
    },
    {
      "cell_type": "markdown",
      "source": [
        "## Strings"
      ],
      "metadata": {
        "id": "lQpbh3TJhL3i"
      }
    },
    {
      "cell_type": "code",
      "source": [
        "message = \"write anything with space\"\n",
        "print (message)\n",
        "\n",
        "message = 'write anything with space'\n",
        "print(message)\n",
        "\n",
        "message = \" \" \"\n",
        "\n",
        "Now whatever is inside\n",
        "\n",
        "is on multiple lines\n",
        "\n"
      ],
      "metadata": {
        "id": "vxuepNBzhPVq",
        "outputId": "313f70bd-9485-4c62-c088-9806bef1b2de",
        "colab": {
          "base_uri": "https://localhost:8080/",
          "height": 134
        }
      },
      "execution_count": null,
      "outputs": [
        {
          "output_type": "error",
          "ename": "SyntaxError",
          "evalue": "ignored",
          "traceback": [
            "\u001b[0;36m  File \u001b[0;32m\"<ipython-input-49-94fe813a969e>\"\u001b[0;36m, line \u001b[0;32m7\u001b[0m\n\u001b[0;31m    message = \" \" \"\u001b[0m\n\u001b[0m                  ^\u001b[0m\n\u001b[0;31mSyntaxError\u001b[0m\u001b[0;31m:\u001b[0m unterminated string literal (detected at line 7)\n"
          ]
        }
      ]
    },
    {
      "cell_type": "code",
      "source": [],
      "metadata": {
        "id": "qA9iEHWgig9h"
      },
      "execution_count": null,
      "outputs": []
    },
    {
      "cell_type": "markdown",
      "source": [
        "Concatenation"
      ],
      "metadata": {
        "id": "EJiMWAnZi6ED"
      }
    },
    {
      "cell_type": "code",
      "source": [
        "\"HELLO\" + \"WORLD\""
      ],
      "metadata": {
        "id": "nYNh3PuVilWV"
      },
      "execution_count": null,
      "outputs": []
    },
    {
      "cell_type": "code",
      "source": [
        "\"HELLO \" + \"WORLD\""
      ],
      "metadata": {
        "id": "0rdw3_fEi_Pv"
      },
      "execution_count": null,
      "outputs": []
    },
    {
      "cell_type": "code",
      "source": [
        "\"HELLO\" + \" WORLD\""
      ],
      "metadata": {
        "id": "05kwow1tjF0d"
      },
      "execution_count": null,
      "outputs": []
    },
    {
      "cell_type": "code",
      "source": [
        "\"HELLO\" + \" \" + \"WORLD\""
      ],
      "metadata": {
        "id": "vA6PGIb1jHb5"
      },
      "execution_count": null,
      "outputs": []
    },
    {
      "cell_type": "markdown",
      "source": [
        "Why datatypes matter. We can perform the same operation, but it will do different things depending on which type of data we are working with:"
      ],
      "metadata": {
        "id": "sjgqCZAf6RtF"
      }
    },
    {
      "cell_type": "code",
      "source": [
        "print(2 + 2)\n",
        "\n",
        "print(\"2\" + \"2\")\n",
        "\n",
        "# print(2 + \"2\") #> TypeError: unsupported operand type(s) for +: 'int' and 'str'\n"
      ],
      "metadata": {
        "id": "NUDc7DuyjSax",
        "outputId": "c821d36e-e0de-4b77-b581-0d1a0306d068",
        "colab": {
          "base_uri": "https://localhost:8080/"
        }
      },
      "execution_count": null,
      "outputs": [
        {
          "output_type": "stream",
          "name": "stdout",
          "text": [
            "4\n",
            "22\n"
          ]
        }
      ]
    },
    {
      "cell_type": "markdown",
      "source": [
        "Format strings:"
      ],
      "metadata": {
        "id": "JE2Rju_J6Yeg"
      }
    },
    {
      "cell_type": "code",
      "source": [
        "from re import X\n",
        "print(\"HELLO +\" \"+ WORLD\")\n",
        "print(\"HELLO\", \"WORLD\")\n",
        "\n",
        "# format string:\n",
        "x = \"WORLD\"\n",
        "print(f\"HELLO {X}\")\n",
        "\n",
        "print = 4.5\n",
        "print(f\"THE PRICE IS: ${PRICE}\")\n"
      ],
      "metadata": {
        "id": "cb5OBuHi6ZkK",
        "outputId": "1064f2c4-1f8d-4e86-b11a-760047100582",
        "colab": {
          "base_uri": "https://localhost:8080/",
          "height": 244
        }
      },
      "execution_count": null,
      "outputs": [
        {
          "output_type": "error",
          "ename": "TypeError",
          "evalue": "ignored",
          "traceback": [
            "\u001b[0;31m---------------------------------------------------------------------------\u001b[0m",
            "\u001b[0;31mTypeError\u001b[0m                                 Traceback (most recent call last)",
            "\u001b[0;32m<ipython-input-29-e033cad1af74>\u001b[0m in \u001b[0;36m<cell line: 2>\u001b[0;34m()\u001b[0m\n\u001b[1;32m      1\u001b[0m \u001b[0;32mfrom\u001b[0m \u001b[0mre\u001b[0m \u001b[0;32mimport\u001b[0m \u001b[0mX\u001b[0m\u001b[0;34m\u001b[0m\u001b[0;34m\u001b[0m\u001b[0m\n\u001b[0;32m----> 2\u001b[0;31m \u001b[0mprint\u001b[0m\u001b[0;34m(\u001b[0m\u001b[0;34m\"HELLO +\"\u001b[0m \u001b[0;34m\"+ WORLD\"\u001b[0m\u001b[0;34m)\u001b[0m\u001b[0;34m\u001b[0m\u001b[0;34m\u001b[0m\u001b[0m\n\u001b[0m\u001b[1;32m      3\u001b[0m \u001b[0mprint\u001b[0m\u001b[0;34m(\u001b[0m\u001b[0;34m\"HELLO\"\u001b[0m\u001b[0;34m,\u001b[0m \u001b[0;34m\"WORLD\"\u001b[0m\u001b[0;34m)\u001b[0m\u001b[0;34m\u001b[0m\u001b[0;34m\u001b[0m\u001b[0m\n\u001b[1;32m      4\u001b[0m \u001b[0;34m\u001b[0m\u001b[0m\n\u001b[1;32m      5\u001b[0m \u001b[0;31m# format string:\u001b[0m\u001b[0;34m\u001b[0m\u001b[0;34m\u001b[0m\u001b[0m\n",
            "\u001b[0;31mTypeError\u001b[0m: 'float' object is not callable"
          ]
        }
      ]
    },
    {
      "cell_type": "code",
      "source": [],
      "metadata": {
        "id": "ou7O9UhE7SYX"
      },
      "execution_count": null,
      "outputs": []
    },
    {
      "cell_type": "markdown",
      "source": [
        "String case manipulation:"
      ],
      "metadata": {
        "id": "BvXhgnda6aaC"
      }
    },
    {
      "cell_type": "code",
      "source": [
        "# to upper case:\n",
        "\n",
        "\n",
        "# to lower case:\n",
        "\n",
        "\n",
        "# to title case:\n",
        "\n"
      ],
      "metadata": {
        "id": "qvwz0ruD6ejK"
      },
      "execution_count": null,
      "outputs": []
    },
    {
      "cell_type": "markdown",
      "source": [
        "Strings are somewhat list-like, so we can convert them to lists of their characters, and perform operations such as list slicing (revisit after covering lists):"
      ],
      "metadata": {
        "id": "RvhJcbg76fXP"
      }
    },
    {
      "cell_type": "code",
      "source": [
        "# \"HELLO\"[0:3]"
      ],
      "metadata": {
        "id": "uzqkloCW6icH"
      },
      "execution_count": null,
      "outputs": []
    },
    {
      "cell_type": "code",
      "source": [
        "# list(\"HELLO\")"
      ],
      "metadata": {
        "id": "jFWYLzDF6omD"
      },
      "execution_count": null,
      "outputs": []
    },
    {
      "cell_type": "markdown",
      "source": [
        "## Booleans"
      ],
      "metadata": {
        "id": "iOmDak3chOVb"
      }
    },
    {
      "cell_type": "code",
      "source": [
        "print(True)\n",
        "\n",
        "print(False)"
      ],
      "metadata": {
        "id": "_F9koW6PhQMa",
        "outputId": "0d71d6c8-fbee-4c3a-cc66-529f244204d6",
        "colab": {
          "base_uri": "https://localhost:8080/",
          "height": 207
        }
      },
      "execution_count": null,
      "outputs": [
        {
          "output_type": "error",
          "ename": "TypeError",
          "evalue": "ignored",
          "traceback": [
            "\u001b[0;31m---------------------------------------------------------------------------\u001b[0m",
            "\u001b[0;31mTypeError\u001b[0m                                 Traceback (most recent call last)",
            "\u001b[0;32m<ipython-input-48-df634d4f30a4>\u001b[0m in \u001b[0;36m<cell line: 1>\u001b[0;34m()\u001b[0m\n\u001b[0;32m----> 1\u001b[0;31m \u001b[0mprint\u001b[0m\u001b[0;34m(\u001b[0m\u001b[0;32mTrue\u001b[0m\u001b[0;34m)\u001b[0m\u001b[0;34m\u001b[0m\u001b[0;34m\u001b[0m\u001b[0m\n\u001b[0m\u001b[1;32m      2\u001b[0m \u001b[0;34m\u001b[0m\u001b[0m\n\u001b[1;32m      3\u001b[0m \u001b[0mprint\u001b[0m\u001b[0;34m(\u001b[0m\u001b[0;32mFalse\u001b[0m\u001b[0;34m)\u001b[0m\u001b[0;34m\u001b[0m\u001b[0;34m\u001b[0m\u001b[0m\n",
            "\u001b[0;31mTypeError\u001b[0m: 'float' object is not callable"
          ]
        }
      ]
    },
    {
      "cell_type": "markdown",
      "source": [
        "# Logical Operators"
      ],
      "metadata": {
        "id": "-yI9zLV1Fkuj"
      }
    },
    {
      "cell_type": "markdown",
      "source": [
        "https://www.w3schools.com/python/python_operators.asp"
      ],
      "metadata": {
        "id": "p-LOAbkK7g3L"
      }
    },
    {
      "cell_type": "markdown",
      "source": [
        "Equality checking:"
      ],
      "metadata": {
        "id": "FAAjPriY7iwS"
      }
    },
    {
      "cell_type": "code",
      "source": [
        "# True == False"
      ],
      "metadata": {
        "id": "5H_nbLDfkhRc"
      },
      "execution_count": null,
      "outputs": []
    },
    {
      "cell_type": "code",
      "source": [
        "# 2 + 2 == 4"
      ],
      "metadata": {
        "id": "pTp8u8sGkkxD"
      },
      "execution_count": null,
      "outputs": []
    },
    {
      "cell_type": "code",
      "source": [],
      "metadata": {
        "id": "l614JVvIkq4f"
      },
      "execution_count": null,
      "outputs": []
    },
    {
      "cell_type": "markdown",
      "source": [
        "Arithmetic operations:"
      ],
      "metadata": {
        "id": "1GZBOhqq7nxX"
      }
    },
    {
      "cell_type": "code",
      "source": [
        "4 < 5\n",
        "5 < 4\n",
        "\n",
        "\n"
      ],
      "metadata": {
        "id": "XgYrqur1kwn2",
        "outputId": "eb2eca5a-ff57-4712-d4d8-87e7ee0d5fa3",
        "colab": {
          "base_uri": "https://localhost:8080/"
        }
      },
      "execution_count": null,
      "outputs": [
        {
          "output_type": "execute_result",
          "data": {
            "text/plain": [
              "False"
            ]
          },
          "metadata": {},
          "execution_count": 40
        }
      ]
    },
    {
      "cell_type": "markdown",
      "source": [
        "Inclusion checking (checking if substring in larger string, checking if item included in a list):"
      ],
      "metadata": {
        "id": "R2VshZ2n7tLn"
      }
    },
    {
      "cell_type": "code",
      "source": [
        "message = \"HELLO\"\n",
        "\n",
        "print( \"HEL\" in message)\n",
        "print( \"h\" in message)\n"
      ],
      "metadata": {
        "id": "XNNARLjW7ukn",
        "outputId": "39170cb4-a68b-4c25-ab74-9d445397755d",
        "colab": {
          "base_uri": "https://localhost:8080/"
        }
      },
      "execution_count": null,
      "outputs": [
        {
          "output_type": "stream",
          "name": "stdout",
          "text": [
            "True\n",
            "False\n"
          ]
        }
      ]
    },
    {
      "cell_type": "code",
      "source": [],
      "metadata": {
        "id": "zi8PvyPu7vNw"
      },
      "execution_count": null,
      "outputs": []
    },
    {
      "cell_type": "markdown",
      "source": [
        "COMPOUND EXPRESSIONS"
      ],
      "metadata": {
        "id": "7ZLSEtVdQWMJ"
      }
    },
    {
      "cell_type": "code",
      "source": [
        "print (True and True)\n",
        "print (True and False)\n",
        "print (False and True)\n"
      ],
      "metadata": {
        "id": "nY-aO-KUQZa6",
        "outputId": "911a71c6-0dda-453e-eb24-8cb53fe54d17",
        "colab": {
          "base_uri": "https://localhost:8080/"
        }
      },
      "execution_count": null,
      "outputs": [
        {
          "output_type": "stream",
          "name": "stdout",
          "text": [
            "True\n",
            "False\n",
            "False\n"
          ]
        }
      ]
    },
    {
      "cell_type": "code",
      "source": [
        "print(True or False)\n",
        "print(False or True)\n",
        "print(False or False)\n"
      ],
      "metadata": {
        "id": "9CMLikrAQ0Ms",
        "outputId": "a911bfc1-bb7b-428f-e8f3-34b1ffece6c5",
        "colab": {
          "base_uri": "https://localhost:8080/"
        }
      },
      "execution_count": null,
      "outputs": [
        {
          "output_type": "stream",
          "name": "stdout",
          "text": [
            "True\n",
            "True\n",
            "False\n"
          ]
        }
      ]
    },
    {
      "cell_type": "code",
      "source": [
        "x = 5\n",
        "\n",
        "print(x < 10 and x> 8)\n",
        "print(x < 10 or x > 8)\n"
      ],
      "metadata": {
        "id": "qfyw9FanRBbS",
        "outputId": "3b5aeccd-54d8-4c79-8c2f-f2c22cb0e52a",
        "colab": {
          "base_uri": "https://localhost:8080/"
        }
      },
      "execution_count": null,
      "outputs": [
        {
          "output_type": "stream",
          "name": "stdout",
          "text": [
            "False\n",
            "True\n"
          ]
        }
      ]
    },
    {
      "cell_type": "markdown",
      "source": [
        "# Conditional Logic"
      ],
      "metadata": {
        "id": "4-bfhqcNeSLL"
      }
    },
    {
      "cell_type": "code",
      "execution_count": null,
      "metadata": {
        "id": "aFccr05KeB5j"
      },
      "outputs": [],
      "source": [
        "x = 5\n",
        "\n",
        "#if_______:\n",
        "#   _______\n",
        "#else\n",
        "#"
      ]
    },
    {
      "cell_type": "code",
      "source": [
        "x = 5\n",
        "\n",
        "if x > 10:\n",
        "    print(\"YEP\")\n",
        "    print(\"------\")\n",
        "    print(\"YEAH\")\n",
        "\n",
        "else:\n",
        "  print(\"NOPE\")\n",
        "  print(\"...\")\n",
        "print(\"NO\")\n",
        "\n",
        "print(\"BOTTOM\")\n",
        "\n"
      ],
      "metadata": {
        "id": "nx0QG-ANmMTb",
        "colab": {
          "base_uri": "https://localhost:8080/"
        },
        "outputId": "45b45948-1684-40f4-93a4-cf023e475d2f"
      },
      "execution_count": 8,
      "outputs": [
        {
          "output_type": "stream",
          "name": "stdout",
          "text": [
            "NOPE\n",
            "...\n",
            "NO\n",
            "BOTTOM\n"
          ]
        }
      ]
    },
    {
      "cell_type": "code",
      "source": [
        "x = 5\n",
        "\n",
        "if x > 10:\n",
        "  print(\"GREATER THAN TEN\")\n",
        "elif x > 2:\n",
        "  print(\"GREATER THAN TWO\")\n",
        "\n",
        "print(\"BOTTOM\")\n"
      ],
      "metadata": {
        "colab": {
          "base_uri": "https://localhost:8080/"
        },
        "id": "rZcp2a9BX0hV",
        "outputId": "9c4bdbb6-9847-4b90-a791-301cb77863eb"
      },
      "execution_count": 11,
      "outputs": [
        {
          "output_type": "stream",
          "name": "stdout",
          "text": [
            "GREATER THAN TWO\n",
            "BOTTOM\n"
          ]
        }
      ]
    },
    {
      "cell_type": "code",
      "source": [
        "if True:\n",
        "    print(\"YEP\")\n",
        "else:\n",
        "    print(\"NOPE\")\n",
        "\n",
        "print(\"BOTTOM\")\n"
      ],
      "metadata": {
        "id": "md5Utgs5mcNo",
        "colab": {
          "base_uri": "https://localhost:8080/"
        },
        "outputId": "13b27ec6-982e-4d0a-dde3-a6afd8a0dcfe"
      },
      "execution_count": 3,
      "outputs": [
        {
          "output_type": "stream",
          "name": "stdout",
          "text": [
            "YEP\n",
            "BOTTOM\n"
          ]
        }
      ]
    },
    {
      "cell_type": "code",
      "source": [],
      "metadata": {
        "id": "2ZI6gmmhWzKf"
      },
      "execution_count": null,
      "outputs": []
    },
    {
      "cell_type": "markdown",
      "source": [
        "Using compound expressions:"
      ],
      "metadata": {
        "id": "XtjFchJrnn1X"
      }
    },
    {
      "cell_type": "code",
      "source": [],
      "metadata": {
        "id": "ekllDKernpOw"
      },
      "execution_count": null,
      "outputs": []
    },
    {
      "cell_type": "code",
      "source": [],
      "metadata": {
        "id": "cl6QX6MbnvCo"
      },
      "execution_count": null,
      "outputs": []
    },
    {
      "cell_type": "markdown",
      "source": [
        "# Python Modules"
      ],
      "metadata": {
        "id": "ytBi6NpGl4u7"
      }
    },
    {
      "cell_type": "markdown",
      "source": [
        "## The `os` Module"
      ],
      "metadata": {
        "id": "t0yT0ArkZATh"
      }
    },
    {
      "cell_type": "markdown",
      "source": [
        "https://docs.python.org/3/library/os.html"
      ],
      "metadata": {
        "id": "TIb0PqzgZLRY"
      }
    },
    {
      "cell_type": "markdown",
      "source": [
        "Accessing the filesystem:"
      ],
      "metadata": {
        "id": "-2_LCLyiZNUV"
      }
    },
    {
      "cell_type": "code",
      "source": [
        "import statistics\n",
        "\n",
        "statistics.mean([1, 2, 3, 4, 4])"
      ],
      "metadata": {
        "id": "vO5oZqjtZLBO",
        "colab": {
          "base_uri": "https://localhost:8080/"
        },
        "outputId": "7041527d-8095-4ee5-ab85-fee7d9be24c9"
      },
      "execution_count": 15,
      "outputs": [
        {
          "output_type": "execute_result",
          "data": {
            "text/plain": [
              "2.8"
            ]
          },
          "metadata": {},
          "execution_count": 15
        }
      ]
    },
    {
      "cell_type": "code",
      "source": [
        "from statistics import mean #, median, mode\n",
        "\n",
        "mean([1, 2, 3, 4, 4])"
      ],
      "metadata": {
        "colab": {
          "base_uri": "https://localhost:8080/"
        },
        "id": "2CVxMk3Ba1m6",
        "outputId": "605ab0f2-8cc5-428a-f497-a03787f26269"
      },
      "execution_count": 16,
      "outputs": [
        {
          "output_type": "execute_result",
          "data": {
            "text/plain": [
              "2.8"
            ]
          },
          "metadata": {},
          "execution_count": 16
        }
      ]
    },
    {
      "cell_type": "code",
      "source": [
        "prices = [100, 150, 200, 250]"
      ],
      "metadata": {
        "id": "aimD6rWdZB8j"
      },
      "execution_count": null,
      "outputs": []
    },
    {
      "cell_type": "markdown",
      "source": [
        "## The `random` Module\n",
        "\n",
        "https://docs.python.org/3/library/random.html"
      ],
      "metadata": {
        "id": "nFy7Z_KXnlRn"
      }
    },
    {
      "cell_type": "code",
      "source": [
        "import random\n",
        "\n",
        "# generate a random number\n",
        "x = random.random()\n",
        "print(x)"
      ],
      "metadata": {
        "colab": {
          "base_uri": "https://localhost:8080/"
        },
        "id": "zUmIzJ3qoVag",
        "outputId": "9f7431b5-b4bf-4f90-9485-f32f6b7fe4b4"
      },
      "execution_count": null,
      "outputs": [
        {
          "output_type": "stream",
          "name": "stdout",
          "text": [
            "0.25236309836064164\n"
          ]
        }
      ]
    },
    {
      "cell_type": "code",
      "source": [
        "flavors = [\"vanilla bean\", \"chocolate\", \"strawberry\"]\n",
        "\n",
        "# how can we print one of these at random?\n",
        "\n"
      ],
      "metadata": {
        "id": "QBezh0ffpXbZ"
      },
      "execution_count": null,
      "outputs": []
    },
    {
      "cell_type": "markdown",
      "source": [
        "## The `statistics` Module"
      ],
      "metadata": {
        "id": "I2E2ONoYGcWd"
      }
    },
    {
      "cell_type": "markdown",
      "source": [
        "https://docs.python.org/3/library/statistics.html"
      ],
      "metadata": {
        "id": "470VA2LrF5yH"
      }
    },
    {
      "cell_type": "code",
      "source": [],
      "metadata": {
        "id": "V-7rdKYRF68m"
      },
      "execution_count": null,
      "outputs": []
    },
    {
      "cell_type": "code",
      "source": [],
      "metadata": {
        "id": "ie1ljqwMF7UG"
      },
      "execution_count": null,
      "outputs": []
    },
    {
      "cell_type": "markdown",
      "source": [
        "# Custom Functions"
      ],
      "metadata": {
        "id": "ub34JcW029qz"
      }
    }
  ]
}