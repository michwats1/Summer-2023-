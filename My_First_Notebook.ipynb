{
  "nbformat": 4,
  "nbformat_minor": 0,
  "metadata": {
    "colab": {
      "provenance": [],
      "toc_visible": true,
      "authorship_tag": "ABX9TyNKEuiQOzP1Vfc59XXEYB4o",
      "include_colab_link": true
    },
    "kernelspec": {
      "name": "python3",
      "display_name": "Python 3"
    },
    "language_info": {
      "name": "python"
    }
  },
  "cells": [
    {
      "cell_type": "markdown",
      "metadata": {
        "id": "view-in-github",
        "colab_type": "text"
      },
      "source": [
        "<a href=\"https://colab.research.google.com/github/michwats1/Summer-2023-/blob/main/My_First_Notebook.ipynb\" target=\"_parent\"><img src=\"https://colab.research.google.com/assets/colab-badge.svg\" alt=\"Open In Colab\"/></a>"
      ]
    },
    {
      "cell_type": "markdown",
      "source": [
        "# My First Notebook!\n",
        "\n",
        "This is a text cell. It uses the markdown language. The line above is a heading, starting with the \"#\" sign. Remember \"#\" means something different in Markdown than it does in Python.\n",
        "\n",
        "We can make links like [this](https://github.com/prof-rossetti/intro-to-python).\n",
        "\n",
        "And lists too:\n",
        "\n",
        "  + Item 1\n",
        "  + Item 2\n",
        "  + Item 3\n",
        "\n",
        "For more information about Markdown syntax, see the [Markdown Guide](https://www.markdownguide.org/)."
      ],
      "metadata": {
        "id": "crDAkHFucEin"
      }
    },
    {
      "cell_type": "markdown",
      "source": [
        "# New Section"
      ],
      "metadata": {
        "id": "tfbPxVcYyTx6"
      }
    },
    {
      "cell_type": "markdown",
      "source": [
        "#Top Level Heading\n"
      ],
      "metadata": {
        "id": "EHz5MTj4hIvU"
      }
    },
    {
      "cell_type": "code",
      "source": [
        "# This is some example Python code\n",
        "# These lines starting with \"#\" are \"comments\"\n",
        "# Remember \"#\" means something different in Markdown than it does in Python\n",
        "\n",
        "print(\"HELLO WORLD!\")\n",
        "\n",
        "x = 2 + 2\n",
        "print(x)\n"
      ],
      "metadata": {
        "colab": {
          "base_uri": "https://localhost:8080/"
        },
        "id": "IoO69VwKygWm",
        "outputId": "6a9abed3-4b2b-47af-c167-e495f1ba688b"
      },
      "execution_count": 1,
      "outputs": [
        {
          "output_type": "stream",
          "name": "stdout",
          "text": [
            "HELLO WORLD!\n",
            "4\n"
          ]
        }
      ]
    },
    {
      "cell_type": "code",
      "source": [
        "y = 10*10\n",
        "print(y)"
      ],
      "metadata": {
        "colab": {
          "base_uri": "https://localhost:8080/"
        },
        "id": "d0q6dMsEyspm",
        "outputId": "82851a6c-35ba-4c68-a303-bb95056dc526"
      },
      "execution_count": 3,
      "outputs": [
        {
          "output_type": "stream",
          "name": "stdout",
          "text": [
            "100\n"
          ]
        }
      ]
    },
    {
      "cell_type": "markdown",
      "source": [
        "Another Section\n"
      ],
      "metadata": {
        "id": "GQqbYssYzcLU"
      }
    }
  ]
}